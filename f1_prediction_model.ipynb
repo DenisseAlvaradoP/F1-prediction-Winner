{
 "cells": [
  {
   "cell_type": "markdown",
   "id": "adcb2cfd",
   "metadata": {},
   "source": [
    "\n",
    "# Predicción de Resultados de Carreras de F1 con Machine Learning 🏎️\n",
    "\n",
    "Este notebook entrena un modelo para predecir la posición final de los pilotos en carreras de Fórmula 1 usando datos históricos.\n"
   ]
  },
  {
   "cell_type": "code",
   "execution_count": null,
   "id": "3c1c3236",
   "metadata": {},
   "outputs": [],
   "source": [
    "\n",
    "# Instalar paquetes necesarios (si no están instalados)\n",
    "!pip install pandas numpy scikit-learn matplotlib seaborn xgboost\n"
   ]
  },
  {
   "cell_type": "code",
   "execution_count": null,
   "id": "32369166",
   "metadata": {},
   "outputs": [],
   "source": [
    "\n",
    "import pandas as pd\n",
    "import numpy as np\n",
    "import matplotlib.pyplot as plt\n",
    "import seaborn as sns\n",
    "from sklearn.model_selection import train_test_split\n",
    "from sklearn.metrics import accuracy_score, classification_report, confusion_matrix\n",
    "from xgboost import XGBClassifier\n",
    "import warnings\n",
    "warnings.filterwarnings('ignore')\n"
   ]
  },
  {
   "cell_type": "code",
   "execution_count": null,
   "id": "1e714d36",
   "metadata": {},
   "outputs": [],
   "source": [
    "\n",
    "# Cargar datos de ejemplo (puedes reemplazar con dataset más actualizado si deseas)\n",
    "url = \"https://raw.githubusercontent.com/jakelever/f1-circuits/master/f1data/results.csv\"\n",
    "df = pd.read_csv(url)\n",
    "df.head()\n"
   ]
  },
  {
   "cell_type": "code",
   "execution_count": null,
   "id": "48254b06",
   "metadata": {},
   "outputs": [],
   "source": [
    "\n",
    "# Usamos solo algunas columnas útiles y eliminamos nulos\n",
    "df = df[['raceId', 'driverId', 'constructorId', 'grid', 'positionOrder']].dropna()\n",
    "\n",
    "# Convertir a enteros\n",
    "df = df.astype(int)\n",
    "\n",
    "# Definir variables de entrada (X) y salida (y)\n",
    "X = df[['raceId', 'driverId', 'constructorId', 'grid']]\n",
    "y = df['positionOrder']\n",
    "\n",
    "# Para simplificar, vamos a convertir las posiciones a una clasificación Top 3, Top 10, o fuera del Top 10\n",
    "def categorize_position(pos):\n",
    "    if pos <= 3:\n",
    "        return \"Top3\"\n",
    "    elif pos <= 10:\n",
    "        return \"Top10\"\n",
    "    else:\n",
    "        return \"Others\"\n",
    "\n",
    "y = y.apply(categorize_position)\n"
   ]
  },
  {
   "cell_type": "code",
   "execution_count": null,
   "id": "602e4989",
   "metadata": {},
   "outputs": [],
   "source": [
    "\n",
    "X_train, X_test, y_train, y_test = train_test_split(X, y, test_size=0.2, random_state=42)\n"
   ]
  },
  {
   "cell_type": "code",
   "execution_count": null,
   "id": "9bc9e184",
   "metadata": {},
   "outputs": [],
   "source": [
    "\n",
    "model = XGBClassifier(use_label_encoder=False, eval_metric='mlogloss')\n",
    "model.fit(X_train, y_train)\n"
   ]
  },
  {
   "cell_type": "code",
   "execution_count": null,
   "id": "8612a201",
   "metadata": {},
   "outputs": [],
   "source": [
    "\n",
    "y_pred = model.predict(X_test)\n",
    "\n",
    "print(\"Accuracy:\", accuracy_score(y_test, y_pred))\n",
    "print(\"\\nClassification Report:\\n\", classification_report(y_test, y_pred))\n",
    "sns.heatmap(confusion_matrix(y_test, y_pred), annot=True, fmt=\"d\", cmap=\"Blues\",\n",
    "            xticklabels=np.unique(y_test), yticklabels=np.unique(y_test))\n",
    "plt.title(\"Confusion Matrix\")\n",
    "plt.xlabel(\"Predicted\")\n",
    "plt.ylabel(\"True\")\n",
    "plt.show()\n"
   ]
  },
  {
   "cell_type": "code",
   "execution_count": null,
   "id": "2561af77",
   "metadata": {},
   "outputs": [],
   "source": [
    "\n",
    "# Simular una predicción: piloto 1, equipo 9, desde la posición 3 en la parrilla de salida, en carrera 20\n",
    "sample = pd.DataFrame([[20, 1, 9, 3]], columns=['raceId', 'driverId', 'constructorId', 'grid'])\n",
    "print(\"Predicción:\", model.predict(sample)[0])\n"
   ]
  }
 ],
 "metadata": {},
 "nbformat": 4,
 "nbformat_minor": 5
}